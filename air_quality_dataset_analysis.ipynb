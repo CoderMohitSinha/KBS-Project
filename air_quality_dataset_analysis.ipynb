{
  "nbformat": 4,
  "nbformat_minor": 0,
  "metadata": {
    "colab": {
      "name": "air-quality-dataset-analysis.ipynb",
      "provenance": []
    },
    "kernelspec": {
      "name": "python3",
      "display_name": "Python 3"
    }
  },
  "cells": [
    {
      "cell_type": "markdown",
      "metadata": {
        "id": "m0YpTCIvUdBW",
        "colab_type": "text"
      },
      "source": [
        "### Air Quality Dataset Analysis\n"
      ]
    },
    {
      "cell_type": "markdown",
      "metadata": {
        "id": "7RaU5SZrY_Fb",
        "colab_type": "text"
      },
      "source": [
        "In this notebook, we have analyzed the **Historical Air Quality data set**. This data set is store in BigQuery public data set as `epa_historical_air_quality`. Eventually, we are going to learn the impact of air quality in spreading the respiratory diseases but here we are just exploring the dataset and pre-processing for the further analysis."
      ]
    },
    {
      "cell_type": "markdown",
      "metadata": {
        "id": "mweaCxKUhqEe",
        "colab_type": "text"
      },
      "source": [
        "Importing the required libraries to run the analysis"
      ]
    },
    {
      "cell_type": "code",
      "metadata": {
        "id": "F91WX8j8Uqqu",
        "colab_type": "code",
        "colab": {
          "base_uri": "https://localhost:8080/",
          "height": 51
        },
        "outputId": "4be47ec7-ad08-496d-c18a-b05fc420acdc"
      },
      "source": [
        "import pandas as pd\n",
        "import numpy as np\n",
        "from pandas import Series,DataFrame\n",
        "\n",
        "import matplotlib.pyplot as plt\n",
        "import seaborn as sns\n",
        "\n",
        "%matplotlib inline"
      ],
      "execution_count": 1,
      "outputs": [
        {
          "output_type": "stream",
          "text": [
            "/usr/local/lib/python3.6/dist-packages/statsmodels/tools/_testing.py:19: FutureWarning: pandas.util.testing is deprecated. Use the functions in the public API at pandas.testing instead.\n",
            "  import pandas.util.testing as tm\n"
          ],
          "name": "stderr"
        }
      ]
    },
    {
      "cell_type": "markdown",
      "metadata": {
        "id": "QwnVOe3RhueR",
        "colab_type": "text"
      },
      "source": [
        "Authenticating with google cloud platform to access the project and the data set in BigQuery"
      ]
    },
    {
      "cell_type": "code",
      "metadata": {
        "id": "wR88qQ5qU1sf",
        "colab_type": "code",
        "colab": {
          "base_uri": "https://localhost:8080/",
          "height": 34
        },
        "outputId": "892eda18-ded2-4f76-9d67-09d9878a3de3"
      },
      "source": [
        "from google.colab import auth\n",
        "auth.authenticate_user()\n",
        "print('Authenticated')"
      ],
      "execution_count": 2,
      "outputs": [
        {
          "output_type": "stream",
          "text": [
            "Authenticated\n"
          ],
          "name": "stdout"
        }
      ]
    },
    {
      "cell_type": "markdown",
      "metadata": {
        "id": "j3K9W-TtlHdW",
        "colab_type": "text"
      },
      "source": [
        "These are some of the columns in our main table in the data set.\n",
        "\n",
        "state_name\tSTRING\tNULLABLE\t\n",
        "\n",
        "- `state_name` The name of the state where the monitoring site is located.\n",
        "- `city_name` The name of the city where the monitoring site is located.\n",
        "- `date_of_last_change` The date the last time any numeric values in this record were updated in the AQS data system.\n",
        "- `latitude` The monitoring site’s angular distance north of the equator measured in decimal degrees.\n",
        "- `longitude` The monitoring site’s angular distance east of the prime meridian measured in decimal degrees.\n",
        "- `parameter_code` The AQS code corresponding to the parameter measured by the monitor.\n",
        "- `poc` This is the “Parameter Occurrence Code” used to distinguish different instruments that measure the same parameter at the same site.\n",
        "- `pollutant_standard` A description of the ambient air quality standard rules used to aggregate statistics.\n",
        "- `metric_used` The base metric used in the calculation of the aggregate statistics presented in the remainder of the row. For example, if this is Daily Maximum, then the value in the Mean column is the mean of the daily maximums.\n",
        "- `method_name` A short description of the processes, equipment, and protocols used in gathering and measuring the sample.\n",
        "- `year` The year the annual summary data represents."
      ]
    },
    {
      "cell_type": "markdown",
      "metadata": {
        "id": "9MEYqEiLkPA3",
        "colab_type": "text"
      },
      "source": [
        "Let's look at the first few rows in the data set."
      ]
    },
    {
      "cell_type": "code",
      "metadata": {
        "id": "9PxB09X_kSKp",
        "colab_type": "code",
        "colab": {}
      },
      "source": [
        "%%bigquery --project kbs-project-273101 quick_look_df\n",
        "SELECT * FROM `bigquery-public-data.epa_historical_air_quality.air_quality_annual_summary` LIMIT 10"
      ],
      "execution_count": 0,
      "outputs": []
    },
    {
      "cell_type": "code",
      "metadata": {
        "id": "mNjH-vpRkwZi",
        "colab_type": "code",
        "colab": {
          "base_uri": "https://localhost:8080/",
          "height": 349
        },
        "outputId": "28b26e2f-1e26-4262-fbf2-994a5ff0b693"
      },
      "source": [
        "quick_look_df.head(3)"
      ],
      "execution_count": 33,
      "outputs": [
        {
          "output_type": "execute_result",
          "data": {
            "text/html": [
              "<div>\n",
              "<style scoped>\n",
              "    .dataframe tbody tr th:only-of-type {\n",
              "        vertical-align: middle;\n",
              "    }\n",
              "\n",
              "    .dataframe tbody tr th {\n",
              "        vertical-align: top;\n",
              "    }\n",
              "\n",
              "    .dataframe thead th {\n",
              "        text-align: right;\n",
              "    }\n",
              "</style>\n",
              "<table border=\"1\" class=\"dataframe\">\n",
              "  <thead>\n",
              "    <tr style=\"text-align: right;\">\n",
              "      <th></th>\n",
              "      <th>state_code</th>\n",
              "      <th>county_code</th>\n",
              "      <th>site_num</th>\n",
              "      <th>parameter_code</th>\n",
              "      <th>poc</th>\n",
              "      <th>latitude</th>\n",
              "      <th>longitude</th>\n",
              "      <th>datum</th>\n",
              "      <th>parameter_name</th>\n",
              "      <th>sample_duration</th>\n",
              "      <th>pollutant_standard</th>\n",
              "      <th>metric_used</th>\n",
              "      <th>method_name</th>\n",
              "      <th>year</th>\n",
              "      <th>units_of_measure</th>\n",
              "      <th>event_type</th>\n",
              "      <th>observation_count</th>\n",
              "      <th>observation_percent</th>\n",
              "      <th>completeness_indicator</th>\n",
              "      <th>valid_day_count</th>\n",
              "      <th>required_day_count</th>\n",
              "      <th>exceptional_data_count</th>\n",
              "      <th>null_data_count</th>\n",
              "      <th>primary_exceedance_count</th>\n",
              "      <th>secondary_exceedance_count</th>\n",
              "      <th>certification_indicator</th>\n",
              "      <th>num_obs_below_mdl</th>\n",
              "      <th>arithmetic_mean</th>\n",
              "      <th>arithmetic_standard_dev</th>\n",
              "      <th>first_max_value</th>\n",
              "      <th>first_max_datetime</th>\n",
              "      <th>second_max_value</th>\n",
              "      <th>second_max_datetime</th>\n",
              "      <th>third_max_value</th>\n",
              "      <th>third_max_datetime</th>\n",
              "      <th>fourth_max_value</th>\n",
              "      <th>fourth_max_datetime</th>\n",
              "      <th>first_max_non_overlapping_value</th>\n",
              "      <th>first_no_max_datetime</th>\n",
              "      <th>second_max_non_overlapping_value</th>\n",
              "      <th>second_no_max_datetime</th>\n",
              "      <th>ninety_nine_percentile</th>\n",
              "      <th>ninety_eight_percentile</th>\n",
              "      <th>ninety_five_percentile</th>\n",
              "      <th>ninety_percentile</th>\n",
              "      <th>seventy_five_percentile</th>\n",
              "      <th>fifty_percentile</th>\n",
              "      <th>ten_percentile</th>\n",
              "      <th>local_site_name</th>\n",
              "      <th>address</th>\n",
              "      <th>state_name</th>\n",
              "      <th>county_name</th>\n",
              "      <th>city_name</th>\n",
              "      <th>cbsa_name</th>\n",
              "      <th>date_of_last_change</th>\n",
              "    </tr>\n",
              "  </thead>\n",
              "  <tbody>\n",
              "    <tr>\n",
              "      <th>0</th>\n",
              "      <td>16</td>\n",
              "      <td>001</td>\n",
              "      <td>0021</td>\n",
              "      <td>68106</td>\n",
              "      <td>1</td>\n",
              "      <td>43.643055</td>\n",
              "      <td>-116.265718</td>\n",
              "      <td>WGS84</td>\n",
              "      <td>Sample Min Baro Pressure</td>\n",
              "      <td>24 HOUR</td>\n",
              "      <td>None</td>\n",
              "      <td>Observed Values</td>\n",
              "      <td>R &amp; P Model 2025 PM2.5 Sequent - Barometric Se...</td>\n",
              "      <td>2003</td>\n",
              "      <td>Millimeters (mercury)</td>\n",
              "      <td>No Events</td>\n",
              "      <td>61</td>\n",
              "      <td>100.0</td>\n",
              "      <td>Y</td>\n",
              "      <td>61</td>\n",
              "      <td>61</td>\n",
              "      <td>0</td>\n",
              "      <td>0</td>\n",
              "      <td>NaN</td>\n",
              "      <td>NaN</td>\n",
              "      <td>Certification not required</td>\n",
              "      <td>0</td>\n",
              "      <td>686.540984</td>\n",
              "      <td>4.440622</td>\n",
              "      <td>698.0</td>\n",
              "      <td>2003-12-17 00:00:00+00:00</td>\n",
              "      <td>696.0</td>\n",
              "      <td>2003-03-28 00:00:00+00:00</td>\n",
              "      <td>696.0</td>\n",
              "      <td>2003-10-24 00:00:00+00:00</td>\n",
              "      <td>694.0</td>\n",
              "      <td>2003-01-15 00:00:00+00:00</td>\n",
              "      <td>None</td>\n",
              "      <td>None</td>\n",
              "      <td>None</td>\n",
              "      <td>None</td>\n",
              "      <td>698.0</td>\n",
              "      <td>696.0</td>\n",
              "      <td>694.0</td>\n",
              "      <td>691.0</td>\n",
              "      <td>690.0</td>\n",
              "      <td>687.0</td>\n",
              "      <td>680.0</td>\n",
              "      <td>None</td>\n",
              "      <td>BRADLEY STREET</td>\n",
              "      <td>Idaho</td>\n",
              "      <td>Ada</td>\n",
              "      <td>Garden City</td>\n",
              "      <td>Boise City, ID</td>\n",
              "      <td>2010-03-06</td>\n",
              "    </tr>\n",
              "    <tr>\n",
              "      <th>1</th>\n",
              "      <td>16</td>\n",
              "      <td>001</td>\n",
              "      <td>0021</td>\n",
              "      <td>68108</td>\n",
              "      <td>1</td>\n",
              "      <td>43.643055</td>\n",
              "      <td>-116.265718</td>\n",
              "      <td>WGS84</td>\n",
              "      <td>Average Ambient Pressure</td>\n",
              "      <td>24 HOUR</td>\n",
              "      <td>None</td>\n",
              "      <td>Observed Values</td>\n",
              "      <td>R &amp; P Model 2025 PM2.5 Sequent - Barometric Se...</td>\n",
              "      <td>2002</td>\n",
              "      <td>Millimeters (mercury)</td>\n",
              "      <td>No Events</td>\n",
              "      <td>23</td>\n",
              "      <td>100.0</td>\n",
              "      <td>N</td>\n",
              "      <td>23</td>\n",
              "      <td>23</td>\n",
              "      <td>0</td>\n",
              "      <td>0</td>\n",
              "      <td>NaN</td>\n",
              "      <td>NaN</td>\n",
              "      <td>Certification not required</td>\n",
              "      <td>0</td>\n",
              "      <td>689.695652</td>\n",
              "      <td>4.761921</td>\n",
              "      <td>700.0</td>\n",
              "      <td>2002-11-28 00:00:00+00:00</td>\n",
              "      <td>696.0</td>\n",
              "      <td>2002-12-04 00:00:00+00:00</td>\n",
              "      <td>694.0</td>\n",
              "      <td>2002-10-11 00:00:00+00:00</td>\n",
              "      <td>693.0</td>\n",
              "      <td>2002-11-22 00:00:00+00:00</td>\n",
              "      <td>None</td>\n",
              "      <td>None</td>\n",
              "      <td>None</td>\n",
              "      <td>None</td>\n",
              "      <td>700.0</td>\n",
              "      <td>700.0</td>\n",
              "      <td>696.0</td>\n",
              "      <td>694.0</td>\n",
              "      <td>692.0</td>\n",
              "      <td>690.0</td>\n",
              "      <td>685.0</td>\n",
              "      <td>None</td>\n",
              "      <td>BRADLEY STREET</td>\n",
              "      <td>Idaho</td>\n",
              "      <td>Ada</td>\n",
              "      <td>Garden City</td>\n",
              "      <td>Boise City, ID</td>\n",
              "      <td>2010-03-05</td>\n",
              "    </tr>\n",
              "    <tr>\n",
              "      <th>2</th>\n",
              "      <td>16</td>\n",
              "      <td>001</td>\n",
              "      <td>0021</td>\n",
              "      <td>68102</td>\n",
              "      <td>1</td>\n",
              "      <td>43.643055</td>\n",
              "      <td>-116.265718</td>\n",
              "      <td>WGS84</td>\n",
              "      <td>Sample Volume</td>\n",
              "      <td>24 HOUR</td>\n",
              "      <td>None</td>\n",
              "      <td>Observed Values</td>\n",
              "      <td>R &amp; P Model 2025 PM2.5 Sequent - Calculation</td>\n",
              "      <td>2003</td>\n",
              "      <td>Cubic meter</td>\n",
              "      <td>No Events</td>\n",
              "      <td>61</td>\n",
              "      <td>100.0</td>\n",
              "      <td>Y</td>\n",
              "      <td>61</td>\n",
              "      <td>61</td>\n",
              "      <td>0</td>\n",
              "      <td>0</td>\n",
              "      <td>NaN</td>\n",
              "      <td>NaN</td>\n",
              "      <td>Certification not required</td>\n",
              "      <td>0</td>\n",
              "      <td>23.978689</td>\n",
              "      <td>0.105063</td>\n",
              "      <td>24.0</td>\n",
              "      <td>2003-01-03 00:00:00+00:00</td>\n",
              "      <td>24.0</td>\n",
              "      <td>2003-01-09 00:00:00+00:00</td>\n",
              "      <td>24.0</td>\n",
              "      <td>2003-01-15 00:00:00+00:00</td>\n",
              "      <td>24.0</td>\n",
              "      <td>2003-01-21 00:00:00+00:00</td>\n",
              "      <td>None</td>\n",
              "      <td>None</td>\n",
              "      <td>None</td>\n",
              "      <td>None</td>\n",
              "      <td>24.0</td>\n",
              "      <td>24.0</td>\n",
              "      <td>24.0</td>\n",
              "      <td>24.0</td>\n",
              "      <td>24.0</td>\n",
              "      <td>24.0</td>\n",
              "      <td>24.0</td>\n",
              "      <td>None</td>\n",
              "      <td>BRADLEY STREET</td>\n",
              "      <td>Idaho</td>\n",
              "      <td>Ada</td>\n",
              "      <td>Garden City</td>\n",
              "      <td>Boise City, ID</td>\n",
              "      <td>2010-03-06</td>\n",
              "    </tr>\n",
              "  </tbody>\n",
              "</table>\n",
              "</div>"
            ],
            "text/plain": [
              "  state_code county_code  ...       cbsa_name  date_of_last_change\n",
              "0         16         001  ...  Boise City, ID           2010-03-06\n",
              "1         16         001  ...  Boise City, ID           2010-03-05\n",
              "2         16         001  ...  Boise City, ID           2010-03-06\n",
              "\n",
              "[3 rows x 55 columns]"
            ]
          },
          "metadata": {
            "tags": []
          },
          "execution_count": 33
        }
      ]
    },
    {
      "cell_type": "code",
      "metadata": {
        "id": "y476t5QQoU7_",
        "colab_type": "code",
        "colab": {}
      },
      "source": [
        "%%bigquery --project kbs-project-273101 describe_df\n",
        "SELECT observation_count, arithmetic_mean, arithmetic_standard_dev, fifty_percentile, seventy_five_percentile,\n",
        "first_max_value, second_max_value, third_max_value, fourth_max_value, primary_exceedance_count,\n",
        "num_obs_below_mdl, exceptional_data_count\n",
        "FROM `bigquery-public-data.epa_historical_air_quality.air_quality_annual_summary`\n",
        "WHERE state_name = \"North Carolina\" AND year = 2017"
      ],
      "execution_count": 0,
      "outputs": []
    },
    {
      "cell_type": "code",
      "metadata": {
        "id": "mZEOPaLGoC-4",
        "colab_type": "code",
        "colab": {
          "base_uri": "https://localhost:8080/",
          "height": 317
        },
        "outputId": "ba21cfeb-5f3a-4569-ae10-a5f2ab43b0b6"
      },
      "source": [
        "describe_df.describe()"
      ],
      "execution_count": 36,
      "outputs": [
        {
          "output_type": "execute_result",
          "data": {
            "text/html": [
              "<div>\n",
              "<style scoped>\n",
              "    .dataframe tbody tr th:only-of-type {\n",
              "        vertical-align: middle;\n",
              "    }\n",
              "\n",
              "    .dataframe tbody tr th {\n",
              "        vertical-align: top;\n",
              "    }\n",
              "\n",
              "    .dataframe thead th {\n",
              "        text-align: right;\n",
              "    }\n",
              "</style>\n",
              "<table border=\"1\" class=\"dataframe\">\n",
              "  <thead>\n",
              "    <tr style=\"text-align: right;\">\n",
              "      <th></th>\n",
              "      <th>observation_count</th>\n",
              "      <th>arithmetic_mean</th>\n",
              "      <th>arithmetic_standard_dev</th>\n",
              "      <th>fifty_percentile</th>\n",
              "      <th>seventy_five_percentile</th>\n",
              "      <th>first_max_value</th>\n",
              "      <th>second_max_value</th>\n",
              "      <th>third_max_value</th>\n",
              "      <th>fourth_max_value</th>\n",
              "      <th>primary_exceedance_count</th>\n",
              "      <th>num_obs_below_mdl</th>\n",
              "      <th>exceptional_data_count</th>\n",
              "    </tr>\n",
              "  </thead>\n",
              "  <tbody>\n",
              "    <tr>\n",
              "      <th>count</th>\n",
              "      <td>1961.000000</td>\n",
              "      <td>1961.000000</td>\n",
              "      <td>1961.000000</td>\n",
              "      <td>1961.000000</td>\n",
              "      <td>1961.000000</td>\n",
              "      <td>1961.000000</td>\n",
              "      <td>1961.000000</td>\n",
              "      <td>1961.000000</td>\n",
              "      <td>1961.000000</td>\n",
              "      <td>293.000000</td>\n",
              "      <td>1961.0</td>\n",
              "      <td>1961.000000</td>\n",
              "    </tr>\n",
              "    <tr>\n",
              "      <th>mean</th>\n",
              "      <td>2078.691994</td>\n",
              "      <td>18.910115</td>\n",
              "      <td>2.133132</td>\n",
              "      <td>18.892366</td>\n",
              "      <td>20.169897</td>\n",
              "      <td>29.201836</td>\n",
              "      <td>27.135935</td>\n",
              "      <td>26.078094</td>\n",
              "      <td>25.611586</td>\n",
              "      <td>0.194539</td>\n",
              "      <td>0.0</td>\n",
              "      <td>600.058644</td>\n",
              "    </tr>\n",
              "    <tr>\n",
              "      <th>std</th>\n",
              "      <td>8233.899209</td>\n",
              "      <td>107.541489</td>\n",
              "      <td>8.614083</td>\n",
              "      <td>107.836912</td>\n",
              "      <td>108.801051</td>\n",
              "      <td>115.844197</td>\n",
              "      <td>113.852781</td>\n",
              "      <td>112.895583</td>\n",
              "      <td>112.607307</td>\n",
              "      <td>2.594720</td>\n",
              "      <td>0.0</td>\n",
              "      <td>7062.227713</td>\n",
              "    </tr>\n",
              "    <tr>\n",
              "      <th>min</th>\n",
              "      <td>4.000000</td>\n",
              "      <td>-0.341382</td>\n",
              "      <td>0.000000</td>\n",
              "      <td>-0.400000</td>\n",
              "      <td>-0.200000</td>\n",
              "      <td>0.000000</td>\n",
              "      <td>0.000000</td>\n",
              "      <td>0.000000</td>\n",
              "      <td>0.000000</td>\n",
              "      <td>0.000000</td>\n",
              "      <td>0.0</td>\n",
              "      <td>0.000000</td>\n",
              "    </tr>\n",
              "    <tr>\n",
              "      <th>25%</th>\n",
              "      <td>55.000000</td>\n",
              "      <td>0.000246</td>\n",
              "      <td>0.000929</td>\n",
              "      <td>0.000000</td>\n",
              "      <td>0.000000</td>\n",
              "      <td>0.006000</td>\n",
              "      <td>0.000000</td>\n",
              "      <td>0.000000</td>\n",
              "      <td>0.000000</td>\n",
              "      <td>0.000000</td>\n",
              "      <td>0.0</td>\n",
              "      <td>0.000000</td>\n",
              "    </tr>\n",
              "    <tr>\n",
              "      <th>50%</th>\n",
              "      <td>61.000000</td>\n",
              "      <td>0.061667</td>\n",
              "      <td>0.105156</td>\n",
              "      <td>0.043000</td>\n",
              "      <td>0.058000</td>\n",
              "      <td>0.600000</td>\n",
              "      <td>0.400000</td>\n",
              "      <td>0.300000</td>\n",
              "      <td>0.200000</td>\n",
              "      <td>0.000000</td>\n",
              "      <td>0.0</td>\n",
              "      <td>0.000000</td>\n",
              "    </tr>\n",
              "    <tr>\n",
              "      <th>75%</th>\n",
              "      <td>335.000000</td>\n",
              "      <td>1.920000</td>\n",
              "      <td>1.590108</td>\n",
              "      <td>1.100000</td>\n",
              "      <td>2.400000</td>\n",
              "      <td>12.000000</td>\n",
              "      <td>9.500000</td>\n",
              "      <td>8.400000</td>\n",
              "      <td>7.200000</td>\n",
              "      <td>0.000000</td>\n",
              "      <td>0.0</td>\n",
              "      <td>0.000000</td>\n",
              "    </tr>\n",
              "    <tr>\n",
              "      <th>max</th>\n",
              "      <td>99564.000000</td>\n",
              "      <td>1439.836364</td>\n",
              "      <td>112.953312</td>\n",
              "      <td>1440.000000</td>\n",
              "      <td>1440.000000</td>\n",
              "      <td>1440.000000</td>\n",
              "      <td>1440.000000</td>\n",
              "      <td>1440.000000</td>\n",
              "      <td>1440.000000</td>\n",
              "      <td>44.000000</td>\n",
              "      <td>0.0</td>\n",
              "      <td>99564.000000</td>\n",
              "    </tr>\n",
              "  </tbody>\n",
              "</table>\n",
              "</div>"
            ],
            "text/plain": [
              "       observation_count  ...  exceptional_data_count\n",
              "count        1961.000000  ...             1961.000000\n",
              "mean         2078.691994  ...              600.058644\n",
              "std          8233.899209  ...             7062.227713\n",
              "min             4.000000  ...                0.000000\n",
              "25%            55.000000  ...                0.000000\n",
              "50%            61.000000  ...                0.000000\n",
              "75%           335.000000  ...                0.000000\n",
              "max         99564.000000  ...            99564.000000\n",
              "\n",
              "[8 rows x 12 columns]"
            ]
          },
          "metadata": {
            "tags": []
          },
          "execution_count": 36
        }
      ]
    },
    {
      "cell_type": "markdown",
      "metadata": {
        "id": "2s8jjtR9ZYRA",
        "colab_type": "text"
      },
      "source": [
        "Environmental Protection Agency (EPA) uses Air Quality Index (AQI) to report daily air quality. They have defined a range of AQI to categorize and record the quality of the air which is more understandable.\n",
        "This query sets threshold based on the range and finds out the number of days in each category for Charlotte, North Carolina in 2017."
      ]
    },
    {
      "cell_type": "code",
      "metadata": {
        "id": "RlFnrkjCWVlw",
        "colab_type": "code",
        "colab": {}
      },
      "source": [
        "%%bigquery --project kbs-project-273101 df\n",
        "SELECT\n",
        "  COUNT(date_local) AS NUM_OF_DAYS,\n",
        "  CASE\n",
        "    WHEN aqi < 51 THEN \"Good (green)\"\n",
        "    WHEN aqi <101 THEN \"Moderate (yellow)\"\n",
        "    WHEN aqi <151 THEN \"Unhealthy for sensitive groups (orange)\"\n",
        "    WHEN aqi <201 THEN \"Unhealthy (red)\"\n",
        "    WHEN aqi <301 THEN \"Very unhealthy (purple)\"\n",
        "    WHEN aqi <501 THEN \"Hazardous (maroon)\"\n",
        "    ELSE \"unexpected data\"\n",
        "  END AS AQ_RATING\n",
        "FROM\n",
        "  `bigquery-public-data.epa_historical_air_quality.pm25_frm_daily_summary`\n",
        "WHERE\n",
        "  city_name='Charlotte'\n",
        "  AND state_name = \"North Carolina\"\n",
        "  AND sample_duration = \"24 HOUR\"\n",
        "  AND poc = 1\n",
        "  AND EXTRACT(YEAR FROM date_local) = 2017\n",
        "GROUP BY\n",
        "  AQ_RATING\n",
        "ORDER BY\n",
        "  NUM_OF_DAYS DESC"
      ],
      "execution_count": 0,
      "outputs": []
    },
    {
      "cell_type": "code",
      "metadata": {
        "id": "FgLmc1dgs01b",
        "colab_type": "code",
        "colab": {
          "base_uri": "https://localhost:8080/",
          "height": 297
        },
        "outputId": "880cf768-8fec-480d-cc2f-d572dc8c9c94"
      },
      "source": [
        "df.plot.bar(x='AQ_RATING', y=\"NUM_OF_DAYS\", rot=0)"
      ],
      "execution_count": 89,
      "outputs": [
        {
          "output_type": "execute_result",
          "data": {
            "text/plain": [
              "<matplotlib.axes._subplots.AxesSubplot at 0x7fa5355b9d30>"
            ]
          },
          "metadata": {
            "tags": []
          },
          "execution_count": 89
        },
        {
          "output_type": "display_data",
          "data": {
            "image/png": "[encoded data removed]",
            "text/plain": [
              "<Figure size 432x288 with 1 Axes>"
            ]
          },
          "metadata": {
            "tags": []
          }
        }
      ]
    },
    {
      "cell_type": "markdown",
      "metadata": {
        "id": "fqTNf8xRt1yi",
        "colab_type": "text"
      },
      "source": [
        "The query below retrieves the daily summary of air quality index of Miami, Florida in 2017 and plots in a scatterplot."
      ]
    },
    {
      "cell_type": "code",
      "metadata": {
        "id": "rY2tWJ6xrdTn",
        "colab_type": "code",
        "colab": {}
      },
      "source": [
        "%%bigquery --project kbs-project-273101 daily_summary_df\n",
        "SELECT\n",
        "        extract(DAYOFYEAR from date_local) as day_of_year,\n",
        "        aqi as AQI\n",
        "    FROM\n",
        "      `bigquery-public-data.epa_historical_air_quality.pm25_frm_daily_summary`\n",
        "    WHERE\n",
        "      city_name = \"Miami\"\n",
        "      AND state_name = \"Florida\"\n",
        "      AND sample_duration = \"24 HOUR\"\n",
        "      AND poc = 1\n",
        "      AND EXTRACT(YEAR FROM date_local) = 2017\n",
        "    ORDER BY day_of_year"
      ],
      "execution_count": 0,
      "outputs": []
    },
    {
      "cell_type": "code",
      "metadata": {
        "id": "CeodUC7OriQO",
        "colab_type": "code",
        "colab": {
          "base_uri": "https://localhost:8080/",
          "height": 364
        },
        "outputId": "aa3d4438-9d56-4b9e-c644-bf5087562c6c"
      },
      "source": [
        "# daily_summary_df.plot(x='day_of_year', y='AQI', style='.');\n",
        "plt.subplots(figsize=(12,5))\n",
        "sns.regplot(data=daily_summary_df, x='day_of_year', y='AQI')\n",
        "plt.ylabel('Air Quality Index', fontsize=12)\n",
        "plt.xticks(rotation=90)\n",
        "plt.xlabel('Day of Year', fontsize=12)\n",
        "plt.title('Daily Summary of AQI', fontsize=16)\n",
        "plt.show()"
      ],
      "execution_count": 98,
      "outputs": [
        {
          "output_type": "display_data",
          "data": {
            "image/png": "[encoded data removed]",
            "text/plain": [
              "<Figure size 864x360 with 1 Axes>"
            ]
          },
          "metadata": {
            "tags": []
          }
        }
      ]
    },
    {
      "cell_type": "markdown",
      "metadata": {
        "id": "O_BYmo13wZYa",
        "colab_type": "text"
      },
      "source": [
        "The query below retrieves the average AQI from the daily summary table. It shows a summary of daily air quality index for all the states in US. Generally, AQI ranges between 0-50 is considered as healthy."
      ]
    },
    {
      "cell_type": "code",
      "metadata": {
        "id": "9fUN4hzduYDs",
        "colab_type": "code",
        "colab": {}
      },
      "source": [
        "%%bigquery --project kbs-project-273101 aqi_summary_df\n",
        "SELECT\n",
        "  EXTRACT(YEAR FROM date_local) as day_of_year,\n",
        "  avg(aqi) as avg_aqi\n",
        "FROM\n",
        "  `bigquery-public-data.epa_historical_air_quality.co_daily_summary`\n",
        "WHERE\n",
        "  poc = 1\n",
        "GROUP BY day_of_year\n",
        "ORDER BY day_of_year ASC"
      ],
      "execution_count": 0,
      "outputs": []
    },
    {
      "cell_type": "code",
      "metadata": {
        "id": "zObRprFaukZ4",
        "colab_type": "code",
        "colab": {
          "base_uri": "https://localhost:8080/",
          "height": 370
        },
        "outputId": "8a6a965c-ac98-4bd5-c7da-751527535baf"
      },
      "source": [
        "# # aqi_summary_df.plot.bar(x='day_of_year',y='avg_aqi')\n",
        "plt.subplots(figsize=(12,5))\n",
        "sns.barplot(x='day_of_year',y='avg_aqi', data=aqi_summary_df, palette=sns.color_palette('Spectral',5), edgecolor=\"#000\")\n",
        "plt.ylabel('Air Quality Index', fontsize=12)\n",
        "plt.xticks(rotation=90)\n",
        "plt.xlabel('Year', fontsize=12)\n",
        "plt.title('Average AQI of CO grouped by years', fontsize=16)\n",
        "plt.show()"
      ],
      "execution_count": 87,
      "outputs": [
        {
          "output_type": "display_data",
          "data": {
            "image/png": "[encoded data removed]",
            "text/plain": [
              "<Figure size 864x360 with 1 Axes>"
            ]
          },
          "metadata": {
            "tags": []
          }
        }
      ]
    },
    {
      "cell_type": "code",
      "metadata": {
        "id": "htU_Ffh0uxlU",
        "colab_type": "code",
        "colab": {}
      },
      "source": [
        ""
      ],
      "execution_count": 0,
      "outputs": []
    }
  ]
}